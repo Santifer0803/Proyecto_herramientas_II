{
 "cells": [
  {
   "cell_type": "markdown",
   "id": "320f8cc1-7cb5-4a63-884b-2c3b2c9c2458",
   "metadata": {},
   "source": [
    "# Proyecto Herramientas II - Grupo Optimización"
   ]
  },
  {
   "cell_type": "markdown",
   "id": "9c5ee1d8-6927-4e75-91c5-fab6bc9612be",
   "metadata": {},
   "source": [
    "Primeramente se presentan las librerías que se utilizaron y que son necesarias para ejecutar el código. Se deja como comentarios la instalación de las mismas por si alguien ocupara instalar alguna."
   ]
  },
  {
   "cell_type": "code",
   "execution_count": 175,
   "id": "5c01ba81-d302-4682-88e9-4680e349460d",
   "metadata": {},
   "outputs": [],
   "source": [
    "# !pip install numpy\n",
    "# !pip install pandas\n",
    "# !pip install numexpr\n",
    "# !pip install numba\n",
    "# !pip install matplotlib\n",
    "# !pip install seaborn\n",
    "# !pip install joblib\n",
    "# !pip install IPython"
   ]
  },
  {
   "cell_type": "code",
   "execution_count": 2,
   "id": "d7d1f6f8-7878-40f9-90cc-1792560e7aec",
   "metadata": {},
   "outputs": [],
   "source": [
    "# Se cargan las librerías más comúnes que se van a usar\n",
    "import numpy as np\n",
    "import pandas as pd\n",
    "import timeit # La librería timeit no requiere ser instalada"
   ]
  },
  {
   "cell_type": "markdown",
   "id": "4d9bdd5c-8ed0-4483-88d0-8468dc2efa11",
   "metadata": {},
   "source": [
    "Se usó la librería timeit para determinar el tiempo de ejecución de los ejercicios.\n",
    "\n",
    "Referencias:\n",
    "\n",
    "https://docs.python.org/es/3/library/timeit.html\n",
    "\n",
    "https://www.geeksforgeeks.org/timeit-python-examples/"
   ]
  },
  {
   "cell_type": "markdown",
   "id": "ce43d3d5-44f3-42e5-bc1f-83c1829e9150",
   "metadata": {},
   "source": [
    "## Ejercicio 1: Operaciones matriciales"
   ]
  },
  {
   "cell_type": "code",
   "execution_count": 3,
   "id": "88b6166b-3be5-4a6f-98d0-877a273f3892",
   "metadata": {},
   "outputs": [],
   "source": [
    "# Se crea la matriz con la que se va a trabajar\n",
    "matriz = np.random.rand(10_000, 10_000)"
   ]
  },
  {
   "cell_type": "code",
   "execution_count": 6,
   "id": "cb1c473a-264b-4a85-8e38-a9232a128d24",
   "metadata": {},
   "outputs": [
    {
     "data": {
      "text/plain": [
       "2.3868186399999103"
      ]
     },
     "execution_count": 6,
     "metadata": {},
     "output_type": "execute_result"
    }
   ],
   "source": [
    "# Ahora se realizará el ejercicio usando la librería NumExpr\n",
    "import numexpr as ne\n",
    "\n",
    "# Se crea un string con el código que se quiere ejecutar\n",
    "codigo = \"\"\"\n",
    "resultado = ne.evaluate('(matriz ** 100) * 10 + 5')\n",
    "\"\"\"\n",
    "\n",
    "# Se ejecuta el código 10 veces usando timeit y se almacenan los tiempos en una lista\n",
    "tiempo_total = timeit.timeit(stmt = codigo, number = 10, globals = globals())\n",
    "\n",
    "# Se calcula el tiempo promedio\n",
    "tiempo_promedio = tiempo_total / 10\n",
    "\n",
    "tiempo_promedio"
   ]
  },
  {
   "cell_type": "code",
   "execution_count": 5,
   "id": "e6e60aeb-d781-4668-8ffb-d66ee9a8ea0c",
   "metadata": {},
   "outputs": [
    {
     "data": {
      "text/plain": [
       "0.7331014900002628"
      ]
     },
     "execution_count": 5,
     "metadata": {},
     "output_type": "execute_result"
    }
   ],
   "source": [
    "# Seguidamente se hace lo mismo usando la librería Numba\n",
    "import numba as nb\n",
    "\n",
    "# Se crea una función que realice la operación que queramos, agregándole decoradores para que numba compile esta función de manera eficiente \n",
    "@nb.njit(parallel = True)\n",
    "def operacion(matriz):\n",
    "    \n",
    "    matriz_resultado = np.empty_like(matriz)\n",
    "    \n",
    "    for i in nb.prange(matriz.shape[0]):\n",
    "        \n",
    "        for j in range(matriz.shape[1]):\n",
    "            \n",
    "            matriz_resultado[i, j] = (matriz[i, j] ** 100) * 10 + 5\n",
    "            \n",
    "    return matriz_resultado\n",
    "\n",
    "codigo_ej_1 = \"\"\"\n",
    "resultado = operacion(matriz)\n",
    "\"\"\"\n",
    "\n",
    "tiempo_total_ej_1 = timeit.timeit(stmt = codigo_ej_1, number = 10, globals = globals())\n",
    "\n",
    "tiempo_promedio_ej_1 = tiempo_total_ej_1 / 10\n",
    "\n",
    "tiempo_promedio_ej_1"
   ]
  },
  {
   "cell_type": "code",
   "execution_count": 8,
   "id": "65853fbd-2fe3-47d9-a0c0-f87ae7449388",
   "metadata": {},
   "outputs": [
    {
     "data": {
      "text/html": [
       "<div>\n",
       "<style scoped>\n",
       "    .dataframe tbody tr th:only-of-type {\n",
       "        vertical-align: middle;\n",
       "    }\n",
       "\n",
       "    .dataframe tbody tr th {\n",
       "        vertical-align: top;\n",
       "    }\n",
       "\n",
       "    .dataframe thead th {\n",
       "        text-align: right;\n",
       "    }\n",
       "</style>\n",
       "<table border=\"1\" class=\"dataframe\">\n",
       "  <thead>\n",
       "    <tr style=\"text-align: right;\">\n",
       "      <th></th>\n",
       "      <th>Integrante</th>\n",
       "      <th>numexpr</th>\n",
       "      <th>numba</th>\n",
       "    </tr>\n",
       "  </thead>\n",
       "  <tbody>\n",
       "    <tr>\n",
       "      <th>0</th>\n",
       "      <td>Eyeri</td>\n",
       "      <td>0.581</td>\n",
       "      <td>0.218</td>\n",
       "    </tr>\n",
       "    <tr>\n",
       "      <th>1</th>\n",
       "      <td>Alejandro</td>\n",
       "      <td>2.387</td>\n",
       "      <td>0.733</td>\n",
       "    </tr>\n",
       "  </tbody>\n",
       "</table>\n",
       "</div>"
      ],
      "text/plain": [
       "  Integrante  numexpr  numba\n",
       "0      Eyeri    0.581  0.218\n",
       "1  Alejandro    2.387  0.733"
      ]
     },
     "execution_count": 8,
     "metadata": {},
     "output_type": "execute_result"
    }
   ],
   "source": [
    "# Por último, se crea un dataframe con el tiempo promedio (en segundos) obtenido por cada uno de los integrantes usando cada librería\n",
    "\n",
    "data_ej_1 = {\n",
    "\n",
    "    'Integrante': ['Eyeri', 'Alejandro'],\n",
    "\n",
    "    'numexpr': [0.581, 2.387],\n",
    "\n",
    "    'numba': [0.218, 0.733]\n",
    "    \n",
    "}\n",
    "\n",
    "tiempos_matrices_ej_1 = pd.DataFrame(data_ej_1)\n",
    "\n",
    "tiempos_matrices_ej_1"
   ]
  },
  {
   "cell_type": "markdown",
   "id": "0b8f0833-b7bf-4a53-8be1-e2a3be120a6d",
   "metadata": {},
   "source": [
    "## Ejercicio 2: Limpieza de bases de datos"
   ]
  },
  {
   "cell_type": "code",
   "execution_count": 18,
   "id": "5ef1912a-dc13-4679-ae31-60e7fa036452",
   "metadata": {},
   "outputs": [
    {
     "data": {
      "text/plain": [
       "109.16192563000004"
      ]
     },
     "execution_count": 18,
     "metadata": {},
     "output_type": "execute_result"
    }
   ],
   "source": [
    "import pandas as pd\n",
    "import numpy as np\n",
    "import timeit\n",
    "\n",
    "def limpiar_datos():\n",
    "    muertes_cr = pd.read_excel('data/muertes_en_costa_rica_2014_2021.xlsx',\n",
    "                               engine='openpyxl')\n",
    "    \n",
    "    muertes_cr = muertes_cr.drop(columns=['pc', 'causamuer', 'des_causa', 'instmurio', 'pcocu', 'nacmadre', 'pcregis', 'gruposcb'])\n",
    "    \n",
    "    # Se realiza la limpieza de la base de datos\n",
    "    \n",
    "    muertes_cr = muertes_cr[muertes_cr['edads'] >= 15]\n",
    "    \n",
    "    muertes_cr = muertes_cr[muertes_cr['anodef'] >= 2014]\n",
    "    \n",
    "    muertes_cr = muertes_cr[muertes_cr['anotrab'] >= 2014]\n",
    "    \n",
    "    muertes_cr = muertes_cr[muertes_cr['anodeclara'] >= 2014]\n",
    "    \n",
    "    muertes_cr['estcivil'] = muertes_cr['estcivil'].str.replace(\"Ã³\", \"o\")\n",
    "    \n",
    "    muertes_cr['ocuparec'] = muertes_cr['ocuparec'].str.replace(\"Ã¡\", \"a\")\n",
    "    \n",
    "    muertes_cr['ocuparec'] = muertes_cr['ocuparec'].str.replace(\"Ã©\", \"e\")\n",
    "    \n",
    "    muertes_cr['ocuparec'] = muertes_cr['ocuparec'].str.replace(\"Ã\", \"i\")\n",
    "    \n",
    "    muertes_cr['regsalud'] = muertes_cr['regsalud'].str.replace(\"Ã\\xad\", \"i\")\n",
    "    \n",
    "    muertes_cr['regsalud'] = muertes_cr['regsalud'].str.replace(\"Ã³\", \"o\")\n",
    "    \n",
    "    muertes_cr['provincia'] = muertes_cr['provincia'].str.replace(\"Ã©\", \"e\")\n",
    "    \n",
    "    muertes_cr['provincia'] = muertes_cr['provincia'].str.replace(\"Ã³\", \"o\")\n",
    "    \n",
    "    muertes_cr['provocu'] = muertes_cr['provocu'].str.replace(\"Ã©\", \"e\")\n",
    "    \n",
    "    muertes_cr['provocu'] = muertes_cr['provocu'].str.replace(\"Ã³\", \"o\")\n",
    "    \n",
    "    muertes_cr['provregis'] = muertes_cr['provregis'].str.replace(\"Ã©\", \"e\")\n",
    "    \n",
    "    muertes_cr['provregis'] = muertes_cr['provregis'].str.replace(\"Ã³\", \"o\")\n",
    "    \n",
    "    muertes_cr['reginec'] = muertes_cr['reginec'].str.replace(\"Ã\\xad\", \"i\")\n",
    "    \n",
    "    muertes_cr['reginec'] = muertes_cr['reginec'].str.replace(\"Ã³\", \"o\")\n",
    "    \n",
    "    muertes_cr['edadsrec'] = muertes_cr['edadsrec'].str.replace(\"100 y mÃ¡s\", \"100 - 121\")\n",
    "    \n",
    "    muertes_cr['autopsia'] = muertes_cr['autopsia'].str.replace(\"Ã©\", \"e\")\n",
    "    \n",
    "    muertes_cr['autopsia'] = muertes_cr['autopsia'].str.replace(\"Ã\\xad\", \"i\")\n",
    "    \n",
    "    muertes_cr['asistmed'] = muertes_cr['asistmed'].str.replace(\"Ã©\", \"e\")\n",
    "    \n",
    "    muertes_cr['asistmed'] = muertes_cr['asistmed'].str.replace(\"Ã\\xad\", \"i\")\n",
    "    \n",
    "    muertes_cr['nacionalid'] = muertes_cr['nacionalid'].apply(lambda x: 'Extranjero' if x != 'Costa Rica' else x)\n",
    "    \n",
    "    otros = ['Ignorado', 'Union libre', 'Separado', 'Menor']\n",
    "    \n",
    "    muertes_cr['estcivil'] = muertes_cr['estcivil'].replace(otros, 'Otros')\n",
    "    \n",
    "    trabajadores_activos = ['Profesionales cienti\\xadficos e intelectuales', 'Agricultores y trabajadores calificados agropecuarios, forestales y pesqueros',\n",
    "                            'Ocupaciones elementales', 'Trabajadores de los servicios y vendedores de comercios y mercados',\n",
    "                            'Operadores de instalaciones y maquinas y ensambladores', 'Tecnicos y profesionales de nivel medio',\n",
    "                            'Oficiales, operarios y artesanos de artes mecanicas y de otros oficios', 'Personal de apoyo administrativo',\n",
    "                            'Directores y gerentes']\n",
    "    \n",
    "    muertes_cr['ocuparec'] = muertes_cr['ocuparec'].replace(trabajadores_activos, 'Trabajadores activos')\n",
    "    \n",
    "    otros = ['Pensionado', 'Persona con discapacidad', 'Estudiante', 'Mal especificadas', 'Privado de libertad']\n",
    "    \n",
    "    muertes_cr['ocuparec'] = muertes_cr['ocuparec'].replace(otros, 'Otros')\n",
    "    \n",
    "    rangos_etarios = [\"15 - 19\", \"20 - 24\", \"25 - 29\", \"30 - 34\", \"35 - 39\", \"40 - 44\", \"45 - 49\", \n",
    "                      \"50 - 54\", \"55 - 59\", \"60 - 64\", \"65 - 69\", \"70 - 74\", \"75 - 79\", \"80 - 84\", \n",
    "                      \"85 - 89\", \"90 - 94\", \"95 - 99\", \"100 - 121\"]\n",
    "    \n",
    "    muertes_cr['edadsrec'] = pd.Categorical(muertes_cr['edadsrec'], categories = rangos_etarios, ordered = True)\n",
    "    \n",
    "    muertes_cr.reset_index(drop = True, inplace = True)\n",
    "    \n",
    "    return muertes_cr\n",
    "    \n",
    "\n",
    "tiempo_total_ej_2 = timeit.timeit(stmt=limpiar_datos, number=10)\n",
    "\n",
    "tiempo_promedio_ej_2 = tiempo_total_ej_2 / 10\n",
    "\n",
    "tiempo_promedio_ej_2\n"
   ]
  },
  {
   "cell_type": "code",
   "execution_count": 19,
   "id": "13f38361-11e4-4a4f-a340-b3adf49f624b",
   "metadata": {},
   "outputs": [
    {
     "data": {
      "text/html": [
       "<div>\n",
       "<style scoped>\n",
       "    .dataframe tbody tr th:only-of-type {\n",
       "        vertical-align: middle;\n",
       "    }\n",
       "\n",
       "    .dataframe tbody tr th {\n",
       "        vertical-align: top;\n",
       "    }\n",
       "\n",
       "    .dataframe thead th {\n",
       "        text-align: right;\n",
       "    }\n",
       "</style>\n",
       "<table border=\"1\" class=\"dataframe\">\n",
       "  <thead>\n",
       "    <tr style=\"text-align: right;\">\n",
       "      <th></th>\n",
       "      <th>Integrante</th>\n",
       "      <th>tiempo_promedio</th>\n",
       "    </tr>\n",
       "  </thead>\n",
       "  <tbody>\n",
       "    <tr>\n",
       "      <th>0</th>\n",
       "      <td>Alejandro</td>\n",
       "      <td>109.162</td>\n",
       "    </tr>\n",
       "  </tbody>\n",
       "</table>\n",
       "</div>"
      ],
      "text/plain": [
       "  Integrante  tiempo_promedio\n",
       "0  Alejandro          109.162"
      ]
     },
     "execution_count": 19,
     "metadata": {},
     "output_type": "execute_result"
    }
   ],
   "source": [
    "data_ej_2 = {\n",
    "\n",
    "    'Integrante': ['Alejandro', ],\n",
    "\n",
    "    'tiempo_promedio': [109.162, ]\n",
    "    \n",
    "}\n",
    "\n",
    "tiempos_graficos_ej_2 = pd.DataFrame(data_ej_2)\n",
    "tiempos_graficos_ej_2"
   ]
  },
  {
   "cell_type": "markdown",
   "id": "b02787c5-3ea5-4700-8c16-cebd1d930a0c",
   "metadata": {},
   "source": [
    "## Ejercicio 3: Gráficos en paralelo "
   ]
  },
  {
   "cell_type": "markdown",
   "id": "fe9fb011-7420-4d6b-9ff5-bd5ab7769d8d",
   "metadata": {},
   "source": [
    "Primeramente se usa joblib para paralelizar la generación de los histogramas y de los gráficos de barras, por medio de los componentes Parallel y delayed\n",
    "\n",
    "Referencias:\n",
    "\n",
    "https://joblib.readthedocs.io/en/latest/parallel.html\n",
    "\n",
    "https://joblib.readthedocs.io/en/latest/generated/joblib.Parallel.html\n",
    "\n",
    "También se hace uso de la función clear_output del módulo IPython, con el fin de limpiar la salida de la celda y no mostrar todos los gráficos\n",
    "generados cada vez que se ejecuta la función de generar gráficos\n",
    "\n",
    "Referencias:\n",
    "\n",
    "https://stackoverflow.com/questions/24816237/ipython-notebook-clear-cell-output-in-code\n",
    "\n",
    "https://notebook.community/CestDiego/emacs-ipython-notebook/tests/notebook/nbformat4/Animations%20Using%20clear_output"
   ]
  },
  {
   "cell_type": "code",
   "execution_count": 43,
   "id": "43bc47c9-7f03-4080-adc9-9a513d50c802",
   "metadata": {},
   "outputs": [],
   "source": [
    "import matplotlib.pyplot as plt\n",
    "import seaborn as sns\n",
    "from joblib import Parallel, delayed\n",
    "from IPython.display import clear_output\n",
    "\n",
    "# Se define una función que realice los histogramas para las variables numéricas\n",
    "def histograma(df, columna):\n",
    "    \n",
    "    plt.figure()\n",
    "    \n",
    "    sns.histplot(df[columna], bins = 'auto', color = 'blue', edgecolor = 'black')\n",
    "    \n",
    "    plt.xlabel('Valor')\n",
    "    \n",
    "    plt.ylabel('Frecuencia')\n",
    "    \n",
    "    return plt.gcf()\n",
    "\n",
    "# Se define otra función que haga los gráficos de barras para las variables categóricas\n",
    "def barras(df, columna):\n",
    "    \n",
    "    plt.figure()\n",
    "    \n",
    "    sns.countplot(x = columna, data = df, color = 'red')\n",
    "\n",
    "    plt.xticks(rotation = 45)\n",
    "    \n",
    "    plt.xlabel('Categorías')\n",
    "    \n",
    "    plt.ylabel('Cantidad')\n",
    "    \n",
    "    return plt.gcf()\n",
    "\n",
    "# Definimos una función que devuelve las columnas numéricas y categóricas en listas por aparte\n",
    "def tipos_columnas(df):\n",
    "    \n",
    "    numericas = df.select_dtypes(include = ['number']).columns\n",
    "        \n",
    "    categoricas = df.select_dtypes(include = ['object', 'category']).columns\n",
    "\n",
    "    return numericas, categoricas\n",
    "\n",
    "# Obtenemos las variables numericas y categóricas\n",
    "numericas, categoricas = tipos_columnas(muertes_cr)\n",
    "\n",
    "# Definimos una función que genere los gráficos deseados\n",
    "def generar_graficos(limpiar = True):\n",
    "\n",
    "    # Generamos y guardamos los gráficos tanto de histogramas como de barras usando la paralelización de joblib\n",
    "    histogramas = Parallel(n_jobs = -1)(\n",
    "    \n",
    "        delayed(histograma)(muertes_cr, col) for col in numericas\n",
    "    \n",
    "    )\n",
    "\n",
    "    graficos_barras = Parallel(n_jobs = -1)(\n",
    "    \n",
    "        delayed(barras)(muertes_cr, col) for col in categoricas\n",
    "    \n",
    "    )\n",
    "\n",
    "    # Mostramos los gráficos\n",
    "    for grafico in histogramas + graficos_barras:\n",
    "\n",
    "        plt.show()\n",
    "\n",
    "    # Si el parámetro limpiar es True, no se mostrarán los gráficos\n",
    "    if limpiar:\n",
    "\n",
    "        clear_output()\n",
    "\n",
    "# Así, se mide el tiempo que tarda la función al ejecutarla 10 veces\n",
    "tiempo_ejecucion_ej_3 = timeit.timeit(generar_graficos, number = 10)\n",
    "\n",
    "# Se obtiene el tiempo promedio de las 10 ejecuciones\n",
    "tiempo_promedio_ej_3 = tiempo_ejecucion_ej_3 / 10\n",
    "print(tiempo_promedio_ej_3)\n",
    "\n"
   ]
  },
  {
   "cell_type": "code",
   "execution_count": 44,
   "id": "7d9aa94f-0984-4100-98bc-ee7d56778026",
   "metadata": {},
   "outputs": [
    {
     "data": {
      "text/html": [
       "<div>\n",
       "<style scoped>\n",
       "    .dataframe tbody tr th:only-of-type {\n",
       "        vertical-align: middle;\n",
       "    }\n",
       "\n",
       "    .dataframe tbody tr th {\n",
       "        vertical-align: top;\n",
       "    }\n",
       "\n",
       "    .dataframe thead th {\n",
       "        text-align: right;\n",
       "    }\n",
       "</style>\n",
       "<table border=\"1\" class=\"dataframe\">\n",
       "  <thead>\n",
       "    <tr style=\"text-align: right;\">\n",
       "      <th></th>\n",
       "      <th>integrante</th>\n",
       "      <th>tiempo_promedio</th>\n",
       "    </tr>\n",
       "  </thead>\n",
       "  <tbody>\n",
       "    <tr>\n",
       "      <th>0</th>\n",
       "      <td>Eyeri</td>\n",
       "      <td>8.82</td>\n",
       "    </tr>\n",
       "    <tr>\n",
       "      <th>1</th>\n",
       "      <td>Alejandro</td>\n",
       "      <td>9.71</td>\n",
       "    </tr>\n",
       "  </tbody>\n",
       "</table>\n",
       "</div>"
      ],
      "text/plain": [
       "  integrante  tiempo_promedio\n",
       "0      Eyeri             8.82\n",
       "1  Alejandro             9.71"
      ]
     },
     "execution_count": 44,
     "metadata": {},
     "output_type": "execute_result"
    }
   ],
   "source": [
    "# Por último, se crea un dataframe con el tiempo promedio que tardó la función por cada integrante\n",
    "data_ej_3 = {\n",
    "\n",
    "    'integrante': ['Eyeri', 'Alejandro'],\n",
    "\n",
    "    'tiempo_promedio': [8.82, 9.71]\n",
    "    \n",
    "}\n",
    "\n",
    "tiempos_graficos_ej_3 = pd.DataFrame(data_ej_3)\n",
    "tiempos_graficos_ej_3"
   ]
  },
  {
   "cell_type": "markdown",
   "id": "0231c278-2850-4807-b1d5-b05609f02600",
   "metadata": {},
   "source": [
    "## Ejercicio 4: media movil "
   ]
  },
  {
   "cell_type": "code",
   "execution_count": 25,
   "id": "ab2784ee-49f2-4f9d-aeba-a8e686caa4ba",
   "metadata": {},
   "outputs": [],
   "source": [
    "import pandas as pd\n",
    "import numpy as np\n",
    "from numba import njit, prange\n",
    "\n",
    "@njit(parallel=True)\n",
    "def imputar_valores_nulos(data, banda):\n",
    "    n = len(data)\n",
    "    resultado = data.copy()\n",
    "    \n",
    "    for i in prange(n):\n",
    "        if np.isnan(data[i]):\n",
    "            principio = max(0, i - banda)\n",
    "            final = min(n, i + banda + 1)\n",
    "            suma, cuenta = 0.0, 0\n",
    "            for j in range(principio, final):\n",
    "                if not np.isnan(data[j]):\n",
    "                    suma += data[j]\n",
    "                    cuenta += 1\n",
    "            if cuenta > 0:\n",
    "                resultado[i] = suma / cuenta\n",
    "    return resultado\n",
    "\n",
    "def imputar_por_prom_movil(dataframe, columna, banda):\n",
    "\n",
    "    data = dataframe[columna].values\n",
    "    data_imputado = imputar_valores_nulos(data, banda)\n",
    "    dataframe[columna] = data_imputado\n",
    "    return dataframe\n"
   ]
  },
  {
   "cell_type": "code",
   "execution_count": 30,
   "id": "62ec0ca1-72c5-4a9c-9047-d4af04a608b8",
   "metadata": {},
   "outputs": [
    {
     "data": {
      "text/plain": [
       "0.0003112099999270868"
      ]
     },
     "execution_count": 30,
     "metadata": {},
     "output_type": "execute_result"
    }
   ],
   "source": [
    "base_salarios = pd.read_excel('data/Base_salarios.xlsx',\n",
    "                               engine='openpyxl')\n",
    "codigo_ej_4 = \"\"\"\n",
    "resultado = imputar_por_prom_movil(base_salarios, 'Salario base', 4)\n",
    "\"\"\"\n",
    "\n",
    "tiempo_total_ej_4 = timeit.timeit(stmt = codigo_ej_4, number = 10, globals = globals())\n",
    "\n",
    "tiempo_promedio_ej_4 = tiempo_total_ej_4 / 10\n",
    "\n",
    "tiempo_promedio_ej_4\n"
   ]
  },
  {
   "cell_type": "code",
   "execution_count": 33,
   "id": "2609a773-be3d-4c81-997f-86e01ec3c37e",
   "metadata": {},
   "outputs": [
    {
     "data": {
      "text/html": [
       "<div>\n",
       "<style scoped>\n",
       "    .dataframe tbody tr th:only-of-type {\n",
       "        vertical-align: middle;\n",
       "    }\n",
       "\n",
       "    .dataframe tbody tr th {\n",
       "        vertical-align: top;\n",
       "    }\n",
       "\n",
       "    .dataframe thead th {\n",
       "        text-align: right;\n",
       "    }\n",
       "</style>\n",
       "<table border=\"1\" class=\"dataframe\">\n",
       "  <thead>\n",
       "    <tr style=\"text-align: right;\">\n",
       "      <th></th>\n",
       "      <th>Integrante</th>\n",
       "      <th>Tiempo promedio</th>\n",
       "    </tr>\n",
       "  </thead>\n",
       "  <tbody>\n",
       "    <tr>\n",
       "      <th>0</th>\n",
       "      <td>Alejandro</td>\n",
       "      <td>0.0003</td>\n",
       "    </tr>\n",
       "  </tbody>\n",
       "</table>\n",
       "</div>"
      ],
      "text/plain": [
       "  Integrante  Tiempo promedio\n",
       "0  Alejandro           0.0003"
      ]
     },
     "execution_count": 33,
     "metadata": {},
     "output_type": "execute_result"
    }
   ],
   "source": [
    "data_ej_4= {\n",
    "\n",
    "'Integrante': ['Alejandro'],\n",
    "'Tiempo promedio' : [0.0003, ]\n",
    "}\n",
    "\n",
    "tiempos_graficos_ej_4 = pd.DataFrame(data_ej_4)\n",
    "tiempos_graficos_ej_4"
   ]
  },
  {
   "cell_type": "markdown",
   "id": "e6c5d516-6c9a-4275-b447-94ffc010e163",
   "metadata": {},
   "source": [
    "## Ejercicio 5: eliminar columna por porcentaje de nulos "
   ]
  },
  {
   "cell_type": "code",
   "execution_count": 9,
   "id": "45ecc265-6d26-4f84-a025-ed62a83dfc59",
   "metadata": {},
   "outputs": [],
   "source": [
    "import pandas as pd\n",
    "\n",
    "def eliminar_columnas_por_nulos(df, porcentaje):\n",
    "    # Calculamos el número máximo de valores nulos permitidos\n",
    "    max_nulos = len(df) * porcentaje\n",
    "    \n",
    "    # Filtramos las columnas que tienen menos de max_nulos valores nulos\n",
    "    df_filtrado = df.dropna(axis=1, thresh=len(df) - max_nulos)\n",
    "    \n",
    "    return df_filtrado"
   ]
  },
  {
   "cell_type": "code",
   "execution_count": 31,
   "id": "4bfb1d02-3382-4b1e-84ac-0a96f8d0f650",
   "metadata": {},
   "outputs": [
    {
     "data": {
      "text/plain": [
       "0.007145939999827533"
      ]
     },
     "execution_count": 31,
     "metadata": {},
     "output_type": "execute_result"
    }
   ],
   "source": [
    "\n",
    "codigo_ej_5 = \"\"\"\n",
    "base_salarios_filtrada = eliminar_columnas_por_nulos(base_salarios, porcentaje=0.01)\n",
    "\"\"\"\n",
    "\n",
    "tiempo_total_ej_5 = timeit.timeit(stmt = codigo_ej_5, number = 10, globals = globals())\n",
    "\n",
    "tiempo_promedio_ej_5 = tiempo_total_ej_5 / 10\n",
    "\n",
    "tiempo_promedio_ej_5\n"
   ]
  },
  {
   "cell_type": "code",
   "execution_count": 34,
   "id": "d91ddc1d-2db5-445d-ba25-7fbe784d5c1c",
   "metadata": {},
   "outputs": [
    {
     "data": {
      "text/html": [
       "<div>\n",
       "<style scoped>\n",
       "    .dataframe tbody tr th:only-of-type {\n",
       "        vertical-align: middle;\n",
       "    }\n",
       "\n",
       "    .dataframe tbody tr th {\n",
       "        vertical-align: top;\n",
       "    }\n",
       "\n",
       "    .dataframe thead th {\n",
       "        text-align: right;\n",
       "    }\n",
       "</style>\n",
       "<table border=\"1\" class=\"dataframe\">\n",
       "  <thead>\n",
       "    <tr style=\"text-align: right;\">\n",
       "      <th></th>\n",
       "      <th>Integrante</th>\n",
       "      <th>Tiempo promedio</th>\n",
       "    </tr>\n",
       "  </thead>\n",
       "  <tbody>\n",
       "    <tr>\n",
       "      <th>0</th>\n",
       "      <td>Alejandro</td>\n",
       "      <td>0.0071</td>\n",
       "    </tr>\n",
       "  </tbody>\n",
       "</table>\n",
       "</div>"
      ],
      "text/plain": [
       "  Integrante  Tiempo promedio\n",
       "0  Alejandro           0.0071"
      ]
     },
     "execution_count": 34,
     "metadata": {},
     "output_type": "execute_result"
    }
   ],
   "source": [
    "data_ej_5 = {\n",
    "\n",
    "'Integrante': ['Alejandro'],\n",
    "'Tiempo promedio' : [0.0071, ]\n",
    "}\n",
    "\n",
    "tiempos_graficos_ej_5 = pd.DataFrame(data_ej_5)\n",
    "tiempos_graficos_ej_5"
   ]
  },
  {
   "cell_type": "markdown",
   "id": "22b69356-1efb-4078-b64e-cfd67241f4cf",
   "metadata": {},
   "source": [
    "## Ejercicio 6: imputacion por agrupacion\n"
   ]
  },
  {
   "cell_type": "code",
   "execution_count": 39,
   "id": "b39f9a1c-5db8-4be9-bae3-efe0adcfbf9c",
   "metadata": {},
   "outputs": [],
   "source": [
    "# Función para imputar valores nulos por agrupación\n",
    "def imputar_por_agrupacion():\n",
    "    # Imputación utilizando pandas\n",
    "    base_salarios['Salario base'] = base_salarios.groupby(['Género', 'Grado de estudio'])['Salario base'] \\\n",
    "                           .transform(lambda x: x.fillna(x.mean()))\n",
    "    return base_salarios"
   ]
  },
  {
   "cell_type": "code",
   "execution_count": 41,
   "id": "837725b4-5090-4dec-a9c1-e95b91f02349",
   "metadata": {},
   "outputs": [
    {
     "name": "stdout",
     "output_type": "stream",
     "text": [
      "0.06680876999998872\n"
     ]
    }
   ],
   "source": [
    "# Así, se mide el tiempo que tarda la función al ejecutarla 10 veces\n",
    "tiempo_ejecucion_ej_6 = timeit.timeit(imputar_por_agrupacion, number = 10)\n",
    "\n",
    "# Se obtiene el tiempo promedio de las 10 ejecuciones\n",
    "tiempo_promedio_ej_6 = tiempo_ejecucion_ej_6 / 10\n",
    "print(tiempo_promedio_ej_6)"
   ]
  },
  {
   "cell_type": "code",
   "execution_count": 42,
   "id": "2409818c-e6fe-4dd3-98c9-d73a4631348b",
   "metadata": {},
   "outputs": [
    {
     "data": {
      "text/html": [
       "<div>\n",
       "<style scoped>\n",
       "    .dataframe tbody tr th:only-of-type {\n",
       "        vertical-align: middle;\n",
       "    }\n",
       "\n",
       "    .dataframe tbody tr th {\n",
       "        vertical-align: top;\n",
       "    }\n",
       "\n",
       "    .dataframe thead th {\n",
       "        text-align: right;\n",
       "    }\n",
       "</style>\n",
       "<table border=\"1\" class=\"dataframe\">\n",
       "  <thead>\n",
       "    <tr style=\"text-align: right;\">\n",
       "      <th></th>\n",
       "      <th>Integrante</th>\n",
       "      <th>Tiempo promedio</th>\n",
       "    </tr>\n",
       "  </thead>\n",
       "  <tbody>\n",
       "    <tr>\n",
       "      <th>0</th>\n",
       "      <td>Alejandro</td>\n",
       "      <td>0.0668</td>\n",
       "    </tr>\n",
       "  </tbody>\n",
       "</table>\n",
       "</div>"
      ],
      "text/plain": [
       "  Integrante  Tiempo promedio\n",
       "0  Alejandro           0.0668"
      ]
     },
     "execution_count": 42,
     "metadata": {},
     "output_type": "execute_result"
    }
   ],
   "source": [
    "data_ej_6 = {\n",
    "\n",
    "'Integrante': ['Alejandro'],\n",
    "'Tiempo promedio' : [0.0668, ]\n",
    "}\n",
    "\n",
    "tiempos_graficos_ej_6 = pd.DataFrame(data_ej_6)\n",
    "tiempos_graficos_ej_6\n"
   ]
  },
  {
   "cell_type": "code",
   "execution_count": null,
   "id": "7bf94ee8-1b86-443a-b7a8-7c946aa7cdff",
   "metadata": {},
   "outputs": [],
   "source": []
  }
 ],
 "metadata": {
  "kernelspec": {
   "display_name": "Python 3 (ipykernel)",
   "language": "python",
   "name": "python3"
  },
  "language_info": {
   "codemirror_mode": {
    "name": "ipython",
    "version": 3
   },
   "file_extension": ".py",
   "mimetype": "text/x-python",
   "name": "python",
   "nbconvert_exporter": "python",
   "pygments_lexer": "ipython3",
   "version": "3.11.7"
  }
 },
 "nbformat": 4,
 "nbformat_minor": 5
}
