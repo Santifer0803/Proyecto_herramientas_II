{
 "cells": [
  {
   "cell_type": "markdown",
   "id": "320f8cc1-7cb5-4a63-884b-2c3b2c9c2458",
   "metadata": {},
   "source": [
    "# Proyecto Herramientas II - Grupo Optimización"
   ]
  },
  {
   "cell_type": "markdown",
   "id": "9c5ee1d8-6927-4e75-91c5-fab6bc9612be",
   "metadata": {},
   "source": [
    "Primeramente se presentan las librerías que se utilizaron y que son necesarias para ejecutar el código. Se deja como comentarios la instalación de las mismas por si alguien ocupara instalar alguna."
   ]
  },
  {
   "cell_type": "code",
   "execution_count": 175,
   "id": "5c01ba81-d302-4682-88e9-4680e349460d",
   "metadata": {},
   "outputs": [],
   "source": [
    "# !pip install numpy\n",
    "# !pip install pandas\n",
    "# !pip install numexpr\n",
    "# !pip install numba\n",
    "# !pip install matplotlib\n",
    "# !pip install seaborn\n",
    "# !pip install joblib\n",
    "# !pip install IPython"
   ]
  },
  {
   "cell_type": "code",
   "execution_count": 178,
   "id": "d7d1f6f8-7878-40f9-90cc-1792560e7aec",
   "metadata": {},
   "outputs": [],
   "source": [
    "# Se cargan las librerías más comúnes que se van a usar\n",
    "import numpy as np\n",
    "import pandas as pd\n",
    "import timeit # La librería timeit no requiere ser instalada"
   ]
  },
  {
   "cell_type": "markdown",
   "id": "4d9bdd5c-8ed0-4483-88d0-8468dc2efa11",
   "metadata": {},
   "source": [
    "Se usó la librería timeit para determinar el tiempo de ejecución de los ejercicios.\n",
    "\n",
    "Referencias:\n",
    "\n",
    "https://docs.python.org/es/3/library/timeit.html\n",
    "\n",
    "https://www.geeksforgeeks.org/timeit-python-examples/"
   ]
  },
  {
   "cell_type": "markdown",
   "id": "ce43d3d5-44f3-42e5-bc1f-83c1829e9150",
   "metadata": {},
   "source": [
    "## Ejercicio 1: Operaciones matriciales"
   ]
  },
  {
   "cell_type": "code",
   "execution_count": 179,
   "id": "88b6166b-3be5-4a6f-98d0-877a273f3892",
   "metadata": {},
   "outputs": [],
   "source": [
    "# Se crea la matriz con la que se va a trabajar\n",
    "matriz = np.random.rand(10_000, 10_000)"
   ]
  },
  {
   "cell_type": "code",
   "execution_count": 180,
   "id": "cb1c473a-264b-4a85-8e38-a9232a128d24",
   "metadata": {},
   "outputs": [
    {
     "data": {
      "text/plain": [
       "0.5810201600019355"
      ]
     },
     "execution_count": 180,
     "metadata": {},
     "output_type": "execute_result"
    }
   ],
   "source": [
    "# Ahora se realizará el ejercicio usando la librería NumExpr\n",
    "import numexpr as ne\n",
    "\n",
    "# Se crea un string con el código que se quiere ejecutar\n",
    "codigo = \"\"\"\n",
    "resultado = ne.evaluate('(matriz ** 100) * 10 + 5')\n",
    "\"\"\"\n",
    "\n",
    "# Se ejecuta el código 10 veces usando timeit y se almacenan los tiempos en una lista\n",
    "tiempo_total = timeit.timeit(stmt = codigo, number = 10, globals = globals())\n",
    "\n",
    "# Se calcula el tiempo promedio\n",
    "tiempo_promedio = tiempo_total / 10\n",
    "\n",
    "tiempo_promedio"
   ]
  },
  {
   "cell_type": "code",
   "execution_count": 181,
   "id": "e6e60aeb-d781-4668-8ffb-d66ee9a8ea0c",
   "metadata": {},
   "outputs": [
    {
     "data": {
      "text/plain": [
       "0.21831957999966106"
      ]
     },
     "execution_count": 181,
     "metadata": {},
     "output_type": "execute_result"
    }
   ],
   "source": [
    "# Seguidamente se hace lo mismo usando la librería Numba\n",
    "import numba as nb\n",
    "\n",
    "# Se crea una función que realice la operación que queramos, agregándole decoradores para que numba compile esta función de manera eficiente \n",
    "@nb.njit(parallel = True)\n",
    "def operacion(matriz):\n",
    "    \n",
    "    matriz_resultado = np.empty_like(matriz)\n",
    "    \n",
    "    for i in nb.prange(matriz.shape[0]):\n",
    "        \n",
    "        for j in range(matriz.shape[1]):\n",
    "            \n",
    "            matriz_resultado[i, j] = (matriz[i, j] ** 100) * 10 + 5\n",
    "            \n",
    "    return matriz_resultado\n",
    "\n",
    "codigo = \"\"\"\n",
    "resultado = operacion(matriz)\n",
    "\"\"\"\n",
    "\n",
    "tiempo_total = timeit.timeit(stmt = codigo, number = 10, globals = globals())\n",
    "\n",
    "tiempo_promedio = tiempo_total / 10\n",
    "\n",
    "tiempo_promedio"
   ]
  },
  {
   "cell_type": "code",
   "execution_count": 183,
   "id": "65853fbd-2fe3-47d9-a0c0-f87ae7449388",
   "metadata": {},
   "outputs": [
    {
     "data": {
      "text/html": [
       "<div>\n",
       "<style scoped>\n",
       "    .dataframe tbody tr th:only-of-type {\n",
       "        vertical-align: middle;\n",
       "    }\n",
       "\n",
       "    .dataframe tbody tr th {\n",
       "        vertical-align: top;\n",
       "    }\n",
       "\n",
       "    .dataframe thead th {\n",
       "        text-align: right;\n",
       "    }\n",
       "</style>\n",
       "<table border=\"1\" class=\"dataframe\">\n",
       "  <thead>\n",
       "    <tr style=\"text-align: right;\">\n",
       "      <th></th>\n",
       "      <th>integrante</th>\n",
       "      <th>numexpr</th>\n",
       "      <th>numba</th>\n",
       "    </tr>\n",
       "  </thead>\n",
       "  <tbody>\n",
       "    <tr>\n",
       "      <th>0</th>\n",
       "      <td>Eyeri</td>\n",
       "      <td>0.581</td>\n",
       "      <td>0.218</td>\n",
       "    </tr>\n",
       "  </tbody>\n",
       "</table>\n",
       "</div>"
      ],
      "text/plain": [
       "  integrante  numexpr  numba\n",
       "0      Eyeri    0.581  0.218"
      ]
     },
     "execution_count": 183,
     "metadata": {},
     "output_type": "execute_result"
    }
   ],
   "source": [
    "# Por último, se crea un dataframe con el tiempo promedio (en segundos) obtenido por cada uno de los integrantes usando cada librería\n",
    "\n",
    "data = {\n",
    "\n",
    "    'integrante': ['Eyeri'],\n",
    "\n",
    "    'numexpr': [0.581],\n",
    "\n",
    "    'numba': [0.218]\n",
    "    \n",
    "}\n",
    "\n",
    "tiempos_matrices = pd.DataFrame(data)\n",
    "\n",
    "tiempos_matrices"
   ]
  },
  {
   "cell_type": "markdown",
   "id": "0b8f0833-b7bf-4a53-8be1-e2a3be120a6d",
   "metadata": {},
   "source": [
    "## Ejercicio 2: Gráficos en paralelo"
   ]
  },
  {
   "cell_type": "code",
   "execution_count": 128,
   "id": "d2569a5a-a19d-4d2c-b878-64f853e10ccf",
   "metadata": {},
   "outputs": [],
   "source": [
    "# Se lee la base de datos, eliminando ciertas columnas\n",
    "muertes_cr = pd.read_excel('data/muertes_en_costa_rica_2014_2021.xlsx',\n",
    "                           engine = 'openpyxl')\n",
    "\n",
    "muertes_cr = muertes_cr.drop(columns = ['pc', 'causamuer', 'des_causa', 'instmurio', 'pcocu', 'nacmadre', 'pcregis', 'gruposcb'])"
   ]
  },
  {
   "cell_type": "code",
   "execution_count": 129,
   "id": "5ef1912a-dc13-4679-ae31-60e7fa036452",
   "metadata": {},
   "outputs": [],
   "source": [
    "# Se realiza la limpieza de la base de datos\n",
    "muertes_cr = muertes_cr[muertes_cr['edads'] >= 15]\n",
    "\n",
    "muertes_cr = muertes_cr[muertes_cr['anodef'] >= 2014]\n",
    "\n",
    "muertes_cr = muertes_cr[muertes_cr['anotrab'] >= 2014]\n",
    "\n",
    "muertes_cr = muertes_cr[muertes_cr['anodeclara'] >= 2014]\n",
    "\n",
    "muertes_cr['estcivil'] = muertes_cr['estcivil'].str.replace(\"Ã³\", \"o\")\n",
    "\n",
    "muertes_cr['ocuparec'] = muertes_cr['ocuparec'].str.replace(\"Ã¡\", \"a\")\n",
    "\n",
    "muertes_cr['ocuparec'] = muertes_cr['ocuparec'].str.replace(\"Ã©\", \"e\")\n",
    "\n",
    "muertes_cr['ocuparec'] = muertes_cr['ocuparec'].str.replace(\"Ã\", \"i\")\n",
    "\n",
    "muertes_cr['regsalud'] = muertes_cr['regsalud'].str.replace(\"Ã\\xad\", \"i\")\n",
    "\n",
    "muertes_cr['regsalud'] = muertes_cr['regsalud'].str.replace(\"Ã³\", \"o\")\n",
    "\n",
    "muertes_cr['provincia'] = muertes_cr['provincia'].str.replace(\"Ã©\", \"e\")\n",
    "\n",
    "muertes_cr['provincia'] = muertes_cr['provincia'].str.replace(\"Ã³\", \"o\")\n",
    "\n",
    "muertes_cr['provocu'] = muertes_cr['provocu'].str.replace(\"Ã©\", \"e\")\n",
    "\n",
    "muertes_cr['provocu'] = muertes_cr['provocu'].str.replace(\"Ã³\", \"o\")\n",
    "\n",
    "muertes_cr['provregis'] = muertes_cr['provregis'].str.replace(\"Ã©\", \"e\")\n",
    "\n",
    "muertes_cr['provregis'] = muertes_cr['provregis'].str.replace(\"Ã³\", \"o\")\n",
    "\n",
    "muertes_cr['reginec'] = muertes_cr['reginec'].str.replace(\"Ã\\xad\", \"i\")\n",
    "\n",
    "muertes_cr['reginec'] = muertes_cr['reginec'].str.replace(\"Ã³\", \"o\")\n",
    "\n",
    "muertes_cr['edadsrec'] = muertes_cr['edadsrec'].str.replace(\"100 y mÃ¡s\", \"100 - 121\")\n",
    "\n",
    "muertes_cr['autopsia'] = muertes_cr['autopsia'].str.replace(\"Ã©\", \"e\")\n",
    "\n",
    "muertes_cr['autopsia'] = muertes_cr['autopsia'].str.replace(\"Ã\\xad\", \"i\")\n",
    "\n",
    "muertes_cr['asistmed'] = muertes_cr['asistmed'].str.replace(\"Ã©\", \"e\")\n",
    "\n",
    "muertes_cr['asistmed'] = muertes_cr['asistmed'].str.replace(\"Ã\\xad\", \"i\")\n",
    "\n",
    "muertes_cr['nacionalid'] = muertes_cr['nacionalid'].apply(lambda x: 'Extranjero' if x != 'Costa Rica' else x)\n",
    "\n",
    "otros = ['Ignorado', 'Union libre', 'Separado', 'Menor']\n",
    "\n",
    "muertes_cr['estcivil'] = muertes_cr['estcivil'].replace(otros, 'Otros')\n",
    "\n",
    "trabajadores_activos = ['Profesionales cienti\\xadficos e intelectuales', 'Agricultores y trabajadores calificados agropecuarios, forestales y pesqueros',\n",
    "                        'Ocupaciones elementales', 'Trabajadores de los servicios y vendedores de comercios y mercados',\n",
    "                        'Operadores de instalaciones y maquinas y ensambladores', 'Tecnicos y profesionales de nivel medio',\n",
    "                        'Oficiales, operarios y artesanos de artes mecanicas y de otros oficios', 'Personal de apoyo administrativo',\n",
    "                        'Directores y gerentes']\n",
    "\n",
    "muertes_cr['ocuparec'] = muertes_cr['ocuparec'].replace(trabajadores_activos, 'Trabajadores activos')\n",
    "\n",
    "otros = ['Pensionado', 'Persona con discapacidad', 'Estudiante', 'Mal especificadas', 'Privado de libertad']\n",
    "\n",
    "muertes_cr['ocuparec'] = muertes_cr['ocuparec'].replace(otros, 'Otros')\n",
    "\n",
    "rangos_etarios = [\"15 - 19\", \"20 - 24\", \"25 - 29\", \"30 - 34\", \"35 - 39\", \"40 - 44\", \"45 - 49\", \n",
    "                  \"50 - 54\", \"55 - 59\", \"60 - 64\", \"65 - 69\", \"70 - 74\", \"75 - 79\", \"80 - 84\", \n",
    "                  \"85 - 89\", \"90 - 94\", \"95 - 99\", \"100 - 121\"]\n",
    "\n",
    "muertes_cr['edadsrec'] = pd.Categorical(muertes_cr['edadsrec'], categories = rangos_etarios, ordered = True)\n",
    "\n",
    "muertes_cr.reset_index(drop = True, inplace = True)"
   ]
  },
  {
   "cell_type": "markdown",
   "id": "fe9fb011-7420-4d6b-9ff5-bd5ab7769d8d",
   "metadata": {},
   "source": [
    "Ahora se realizará el ejercicio en sí\n",
    "\n",
    "Primeramente se usa joblib para paralelizar la generación de los histogramas y de los gráficos de barras, por medio de los componentes Parallel y delayed\n",
    "\n",
    "Referencias:\n",
    "\n",
    "https://joblib.readthedocs.io/en/latest/parallel.html\n",
    "\n",
    "https://joblib.readthedocs.io/en/latest/generated/joblib.Parallel.html\n",
    "\n",
    "También se hace uso de la función clear_output del módulo IPython, con el fin de limpiar la salida de la celda y no mostrar todos los gráficos\n",
    "generados cada vez que se ejecuta la función de generar gráficos\n",
    "\n",
    "Referencias:\n",
    "\n",
    "https://stackoverflow.com/questions/24816237/ipython-notebook-clear-cell-output-in-code\n",
    "\n",
    "https://notebook.community/CestDiego/emacs-ipython-notebook/tests/notebook/nbformat4/Animations%20Using%20clear_output"
   ]
  },
  {
   "cell_type": "code",
   "execution_count": 191,
   "id": "43bc47c9-7f03-4080-adc9-9a513d50c802",
   "metadata": {},
   "outputs": [
    {
     "name": "stdout",
     "output_type": "stream",
     "text": [
      "8.495974209997803\n"
     ]
    },
    {
     "data": {
      "text/html": [
       "<div>\n",
       "<style scoped>\n",
       "    .dataframe tbody tr th:only-of-type {\n",
       "        vertical-align: middle;\n",
       "    }\n",
       "\n",
       "    .dataframe tbody tr th {\n",
       "        vertical-align: top;\n",
       "    }\n",
       "\n",
       "    .dataframe thead th {\n",
       "        text-align: right;\n",
       "    }\n",
       "</style>\n",
       "<table border=\"1\" class=\"dataframe\">\n",
       "  <thead>\n",
       "    <tr style=\"text-align: right;\">\n",
       "      <th></th>\n",
       "      <th>integrante</th>\n",
       "      <th>tiempo_promedio</th>\n",
       "    </tr>\n",
       "  </thead>\n",
       "  <tbody>\n",
       "    <tr>\n",
       "      <th>0</th>\n",
       "      <td>Eyeri</td>\n",
       "      <td>8.82</td>\n",
       "    </tr>\n",
       "  </tbody>\n",
       "</table>\n",
       "</div>"
      ],
      "text/plain": [
       "  integrante  tiempo_promedio\n",
       "0      Eyeri             8.82"
      ]
     },
     "execution_count": 191,
     "metadata": {},
     "output_type": "execute_result"
    }
   ],
   "source": [
    "import matplotlib.pyplot as plt\n",
    "import seaborn as sns\n",
    "from joblib import Parallel, delayed\n",
    "from IPython.display import clear_output\n",
    "\n",
    "# Se define una función que realice los histogramas para las variables numéricas\n",
    "def histograma(df, columna):\n",
    "    \n",
    "    plt.figure()\n",
    "    \n",
    "    sns.histplot(df[columna], bins = 'auto', color = 'blue', edgecolor = 'black')\n",
    "    \n",
    "    plt.xlabel('Valor')\n",
    "    \n",
    "    plt.ylabel('Frecuencia')\n",
    "    \n",
    "    return plt.gcf()\n",
    "\n",
    "# Se define otra función que haga los gráficos de barras para las variables categóricas\n",
    "def barras(df, columna):\n",
    "    \n",
    "    plt.figure()\n",
    "    \n",
    "    sns.countplot(x = columna, data = df, color = 'red')\n",
    "\n",
    "    plt.xticks(rotation = 45)\n",
    "    \n",
    "    plt.xlabel('Categorías')\n",
    "    \n",
    "    plt.ylabel('Cantidad')\n",
    "    \n",
    "    return plt.gcf()\n",
    "\n",
    "# Definimos una función que devuelve las columnas numéricas y categóricas en listas por aparte\n",
    "def tipos_columnas(df):\n",
    "    \n",
    "    numericas = df.select_dtypes(include = ['number']).columns\n",
    "        \n",
    "    categoricas = df.select_dtypes(include = ['object', 'category']).columns\n",
    "\n",
    "    return numericas, categoricas\n",
    "\n",
    "# Obtenemos las variables numericas y categóricas\n",
    "numericas, categoricas = tipos_columnas(muertes_cr)\n",
    "\n",
    "# Definimos una función que genere los gráficos deseados\n",
    "def generar_graficos(limpiar = True):\n",
    "\n",
    "    # Generamos y guardamos los gráficos tanto de histogramas como de barras usando la paralelización de joblib\n",
    "    histogramas = Parallel(n_jobs = -1)(\n",
    "    \n",
    "        delayed(histograma)(muertes_cr, col) for col in numericas\n",
    "    \n",
    "    )\n",
    "\n",
    "    graficos_barras = Parallel(n_jobs = -1)(\n",
    "    \n",
    "        delayed(barras)(muertes_cr, col) for col in categoricas\n",
    "    \n",
    "    )\n",
    "\n",
    "    # Mostramos los gráficos\n",
    "    for grafico in histogramas + graficos_barras:\n",
    "\n",
    "        plt.show()\n",
    "\n",
    "    # Si el parámetro limpiar es True, no se mostrarán los gráficos\n",
    "    if limpiar:\n",
    "\n",
    "        clear_output()\n",
    "\n",
    "# Así, se mide el tiempo que tarda la función al ejecutarla 10 veces\n",
    "tiempo_ejecucion = timeit.timeit(generar_graficos, number = 10)\n",
    "\n",
    "# Se obtiene el tiempo promedio de las 10 ejecuciones\n",
    "tiempo_promedio = tiempo_ejecucion / 10\n",
    "print(tiempo_promedio)\n",
    "\n",
    "# Por último, se crea un dataframe con el tiempo promedio que tardó la función por cada integrante\n",
    "data = {\n",
    "\n",
    "    'integrante': ['Eyeri'],\n",
    "\n",
    "    'tiempo_promedio': [8.82]\n",
    "    \n",
    "}\n",
    "\n",
    "tiempos_graficos = pd.DataFrame(data)\n",
    "tiempos_graficos"
   ]
  },
  {
   "cell_type": "code",
   "execution_count": null,
   "id": "5093cf9c-c9a3-47de-a0cb-6daca7e8129c",
   "metadata": {},
   "outputs": [],
   "source": []
  },
  {
   "cell_type": "code",
   "execution_count": null,
   "id": "bcbf3856-dfd7-437d-9139-89e045eded80",
   "metadata": {},
   "outputs": [],
   "source": []
  },
  {
   "cell_type": "code",
   "execution_count": null,
   "id": "91dfa125-d633-4cc0-a87f-65c16ae2e4d3",
   "metadata": {},
   "outputs": [],
   "source": []
  },
  {
   "cell_type": "code",
   "execution_count": null,
   "id": "45ecc265-6d26-4f84-a025-ed62a83dfc59",
   "metadata": {},
   "outputs": [],
   "source": []
  },
  {
   "cell_type": "code",
   "execution_count": null,
   "id": "4bfb1d02-3382-4b1e-84ac-0a96f8d0f650",
   "metadata": {},
   "outputs": [],
   "source": []
  },
  {
   "cell_type": "code",
   "execution_count": null,
   "id": "ab94cfc7-ba28-4d69-b193-606012662020",
   "metadata": {},
   "outputs": [],
   "source": []
  },
  {
   "cell_type": "code",
   "execution_count": null,
   "id": "9baee2a3-05db-4b42-88ce-bf85ad6dc486",
   "metadata": {},
   "outputs": [],
   "source": []
  }
 ],
 "metadata": {
  "kernelspec": {
   "display_name": "Python 3 (ipykernel)",
   "language": "python",
   "name": "python3"
  },
  "language_info": {
   "codemirror_mode": {
    "name": "ipython",
    "version": 3
   },
   "file_extension": ".py",
   "mimetype": "text/x-python",
   "name": "python",
   "nbconvert_exporter": "python",
   "pygments_lexer": "ipython3",
   "version": "3.12.3"
  }
 },
 "nbformat": 4,
 "nbformat_minor": 5
}
